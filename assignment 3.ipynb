{
 "cells": [
  {
   "cell_type": "code",
   "execution_count": 12,
   "metadata": {},
   "outputs": [
    {
     "name": "stdout",
     "output_type": "stream",
     "text": [
      "1,2,10,4,1,56,2,1,3,56,4,0,0,0,0,0\n"
     ]
    }
   ],
   "source": [
    "a=[0,1,2,10,4,1,0,56,2,0,1,3,0,56,0,4]\n",
    "b=[]\n",
    "for i in a:\n",
    "    if i==0:\n",
    "        b.append(str(i))\n",
    "    else:\n",
    "        print(i,end=',')\n",
    "c=\",\".join(b)\n",
    "print(c)      \n",
    "        "
   ]
  },
  {
   "cell_type": "code",
   "execution_count": 25,
   "metadata": {},
   "outputs": [
    {
     "name": "stdout",
     "output_type": "stream",
     "text": [
      "[5, 10, 15, 20, 25, 35, 40, 45, 60, 60, 70, 80]\n"
     ]
    }
   ],
   "source": [
    "a=[10,20,40,60,70,80]\n",
    "b=[5,15,25,35,45,60]\n",
    "c=sorted(a+b)\n",
    "print(c)"
   ]
  }
 ],
 "metadata": {
  "kernelspec": {
   "display_name": "Python 3",
   "language": "python",
   "name": "python3"
  },
  "language_info": {
   "codemirror_mode": {
    "name": "ipython",
    "version": 3
   },
   "file_extension": ".py",
   "mimetype": "text/x-python",
   "name": "python",
   "nbconvert_exporter": "python",
   "pygments_lexer": "ipython3",
   "version": "3.7.6"
  }
 },
 "nbformat": 4,
 "nbformat_minor": 4
}
